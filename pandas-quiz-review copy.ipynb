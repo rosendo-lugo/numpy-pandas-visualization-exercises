{
 "cells": [
  {
   "cell_type": "markdown",
   "id": "29f99436",
   "metadata": {},
   "source": [
    "# Pandas Review using a Pokemon Dataset"
   ]
  },
  {
   "cell_type": "code",
   "execution_count": 2,
   "id": "3266ec83",
   "metadata": {},
   "outputs": [],
   "source": [
    "import pandas as pd\n",
    "\n",
    "df = pd.read_csv('https://gist.githubusercontent.com/armgilles/\\\n",
    "194bcff35001e7eb53a2a8b441e8b2c6/raw/92200bc0a673d5ce2110aaad4544ed6c4010f687/pokemon.csv')"
   ]
  },
  {
   "cell_type": "markdown",
   "id": "b6cf483c",
   "metadata": {},
   "source": [
    "### Practice Exercises"
   ]
  },
  {
   "cell_type": "markdown",
   "id": "cecdd334",
   "metadata": {},
   "source": [
    "#### 1. Obtain the following information:\n",
    "    \n",
    "    - dimensions\n",
    "    - dtypes\n",
    "    - column names\n",
    "    - summary statistics\n"
   ]
  },
  {
   "cell_type": "code",
   "execution_count": 18,
   "id": "e9d6367e",
   "metadata": {},
   "outputs": [
    {
     "name": "stdout",
     "output_type": "stream",
     "text": [
      "(800, 13)\n"
     ]
    }
   ],
   "source": [
    "# print(df.head())\n",
    "# print(df.shape)\n",
    "# print(df.info())\n",
    "# print(df.columns)\n",
    "# print(df.describe())"
   ]
  },
  {
   "cell_type": "markdown",
   "id": "0dfe016c",
   "metadata": {},
   "source": [
    "#### 2. Change all the column names\n",
    "      - lowercase letters\n",
    "      - remove whitespace\n",
    "      - remove periods"
   ]
  },
  {
   "cell_type": "code",
   "execution_count": 27,
   "id": "2afdbd24",
   "metadata": {},
   "outputs": [
    {
     "name": "stdout",
     "output_type": "stream",
     "text": [
      "Index(['#', 'name', 'type 1', 'type 2', 'total', 'hp', 'attack', 'defense',\n",
      "       'sp. atk', 'sp. def', 'speed', 'generation', 'legendary'],\n",
      "      dtype='object')\n",
      "Index(['#', 'Name', 'Type1', 'Type2', 'Total', 'HP', 'Attack', 'Defense',\n",
      "       'Sp.Atk', 'Sp.Def', 'Speed', 'Generation', 'Legendary'],\n",
      "      dtype='object')\n",
      "Index(['#', 'Name', 'Type1', 'Type2', 'Total', 'HP', 'Attack', 'Defense',\n",
      "       'SpAtk', 'SpDef', 'Speed', 'Generation', 'Legendary'],\n",
      "      dtype='object')\n"
     ]
    },
    {
     "name": "stderr",
     "output_type": "stream",
     "text": [
      "/var/folders/67/bss6mpl54l73122199y9h3r40000gn/T/ipykernel_11797/1350523245.py:3: FutureWarning: The default value of regex will change from True to False in a future version. In addition, single character regular expressions will *not* be treated as literal strings when regex=True.\n",
      "  dots = df.columns.str.replace('.', '',)\n",
      "/var/folders/67/bss6mpl54l73122199y9h3r40000gn/T/ipykernel_11797/1350523245.py:4: FutureWarning: The default value of regex will change from True to False in a future version.\n",
      "  print(df.columns.str.replace('[\\s\\.]', '')\n"
     ]
    }
   ],
   "source": [
    "print(df.columns.str.lower())\n",
    "print(df.columns.str.replace(' ', ''))\n",
    "dots = df.columns.str.replace('.', '',)\n",
    "print(df.columns.str.replace('[\\s\\.]', '')\n",
    ")"
   ]
  },
  {
   "cell_type": "markdown",
   "id": "51e10350",
   "metadata": {},
   "source": [
    "#### 3. What is the highest HP value present?"
   ]
  },
  {
   "cell_type": "code",
   "execution_count": 241,
   "id": "3c069c86",
   "metadata": {},
   "outputs": [
    {
     "name": "stdout",
     "output_type": "stream",
     "text": [
      "***************Option 1*********************\n",
      "\n",
      "Highest HP value present\n",
      "        #     Name  Type 1 Type 2  Total   HP  Attack  Defense  Sp Atk  Sp Def  \\\n",
      "261  242  Blissey  Normal    NaN    540  255      10       10      75     135   \n",
      "\n",
      "     Speed  Generation  Legendary  \n",
      "261     55           2      False  \n",
      "\n",
      "\n",
      "***************Option 2*********************\n",
      "\n",
      "Highest HP value present (option 2)\n",
      " 255\n",
      "\n",
      "Lowest HP value present\n",
      " 1\n"
     ]
    }
   ],
   "source": []
  },
  {
   "cell_type": "markdown",
   "id": "39680199",
   "metadata": {},
   "source": [
    "#### 4. Which Pokemon possess(es) the highest HP value?\n",
    "- note: the `name` column is the pokemon name"
   ]
  },
  {
   "cell_type": "code",
   "execution_count": 239,
   "id": "10e85f32",
   "metadata": {},
   "outputs": [
    {
     "name": "stdout",
     "output_type": "stream",
     "text": [
      "***************Option 1*********************\n",
      "\n",
      "261    Blissey\n",
      "Name: Name, dtype: object\n",
      "261    Blissey\n",
      "Name: Name, dtype: object\n",
      "The pokemon with the highest HP value is 'Blissey' with '255' HP.\n",
      "\n",
      "***************Option 2*********************\n",
      "\n",
      "Below you can find the name of the pokeman with the highest HP value\n",
      "        #     Name  Type 1 Type 2  Total   HP  Attack  Defense  Sp Atk  Sp Def  \\\n",
      "261  242  Blissey  Normal    NaN    540  255      10       10      75     135   \n",
      "\n",
      "     Speed  Generation  Legendary  \n",
      "261     55           2      False  \n"
     ]
    }
   ],
   "source": []
  },
  {
   "cell_type": "markdown",
   "id": "ff968f0b",
   "metadata": {},
   "source": [
    "#### 5. How many different types are represented in Type 1? What are they?\n"
   ]
  },
  {
   "cell_type": "code",
   "execution_count": 139,
   "id": "a8350059",
   "metadata": {},
   "outputs": [
    {
     "name": "stdout",
     "output_type": "stream",
     "text": [
      "count       800\n",
      "unique       18\n",
      "top       Water\n",
      "freq        112\n",
      "Name: Type 1, dtype: object\n",
      "\n",
      "\n",
      "['Grass' 'Fire' 'Water' 'Bug' 'Normal' 'Poison' 'Electric' 'Ground'\n",
      " 'Fairy' 'Fighting' 'Psychic' 'Rock' 'Ghost' 'Ice' 'Dragon' 'Dark' 'Steel'\n",
      " 'Flying']\n"
     ]
    }
   ],
   "source": []
  },
  {
   "cell_type": "markdown",
   "id": "65b136a0",
   "metadata": {},
   "source": [
    "#### 6. Number of Pokemon whose Type 2 is Ghost"
   ]
  },
  {
   "cell_type": "code",
   "execution_count": 151,
   "id": "a5f5565b",
   "metadata": {},
   "outputs": [
    {
     "name": "stdout",
     "output_type": "stream",
     "text": [
      "******************Option 1************************\n",
      "14\n",
      "******************Option 2************************\n",
      "The number of Pokemon whose Type 2 is Ghost is 14.\n"
     ]
    }
   ],
   "source": []
  },
  {
   "cell_type": "markdown",
   "id": "cfdc6cd4",
   "metadata": {},
   "source": [
    "#### 7. Percentage of Pokemon whose Type 2 is Ghost"
   ]
  },
  {
   "cell_type": "code",
   "execution_count": 152,
   "id": "14b24a00",
   "metadata": {},
   "outputs": [
    {
     "name": "stdout",
     "output_type": "stream",
     "text": [
      "The percentage of Pokemon whose Type 2 is Ghost is 1.75%.\n"
     ]
    }
   ],
   "source": []
  },
  {
   "cell_type": "markdown",
   "id": "0e596571",
   "metadata": {},
   "source": [
    "#### 8. Number of Pokemon whose Attack is greater than Defense"
   ]
  },
  {
   "cell_type": "code",
   "execution_count": 158,
   "id": "e661ff4e",
   "metadata": {},
   "outputs": [
    {
     "name": "stdout",
     "output_type": "stream",
     "text": [
      "The number of Pokemon whose Attack is greater than Defense is 433.\n"
     ]
    }
   ],
   "source": []
  },
  {
   "cell_type": "markdown",
   "id": "b6fec6a1",
   "metadata": {},
   "source": [
    "#### 9. What is the slowest speed for Grass type (either type 1 or type 2)"
   ]
  },
  {
   "cell_type": "code",
   "execution_count": 186,
   "id": "92635c8e",
   "metadata": {},
   "outputs": [
    {
     "name": "stdout",
     "output_type": "stream",
     "text": [
      "The slowest speed for Grass type is 10.\n"
     ]
    }
   ],
   "source": []
  },
  {
   "cell_type": "markdown",
   "id": "538fddbe",
   "metadata": {},
   "source": [
    "#### 10. Find the average speed by Generation"
   ]
  },
  {
   "cell_type": "code",
   "execution_count": 242,
   "id": "c0caaeb5",
   "metadata": {},
   "outputs": [
    {
     "name": "stdout",
     "output_type": "stream",
     "text": [
      "   #                   Name Type 1  Type 2  Total  HP  Attack  Defense  \\\n",
      "0  1              Bulbasaur  Grass  Poison    318  45      49       49   \n",
      "1  2                Ivysaur  Grass  Poison    405  60      62       63   \n",
      "2  3               Venusaur  Grass  Poison    525  80      82       83   \n",
      "3  3  VenusaurMega Venusaur  Grass  Poison    625  80     100      123   \n",
      "4  4             Charmander   Fire     NaN    309  39      52       43   \n",
      "\n",
      "   Sp Atk  Sp Def  Speed  Generation  Legendary  \n",
      "0      65      65     45           1      False  \n",
      "1      80      80     60           1      False  \n",
      "2     100     100     80           1      False  \n",
      "3     122     120     80           1      False  \n",
      "4      60      50     65           1      False  \n",
      "Generation\n",
      "1    72.58\n",
      "2    61.81\n",
      "3    66.92\n",
      "4    71.34\n",
      "5    68.08\n",
      "6    66.44\n",
      "Name: Speed, dtype: float64\n"
     ]
    }
   ],
   "source": []
  },
  {
   "cell_type": "markdown",
   "id": "a4c2f430",
   "metadata": {},
   "source": [
    "#### 11. How many LEGENDARY Pokemon are DRAGON type?"
   ]
  },
  {
   "cell_type": "code",
   "execution_count": 231,
   "id": "18f2f94b",
   "metadata": {},
   "outputs": [
    {
     "name": "stdout",
     "output_type": "stream",
     "text": [
      "The total number of Dragon type Pokemon in either Type 1 or Type 2 is 16.\n"
     ]
    }
   ],
   "source": [
    "\n",
    "\n"
   ]
  },
  {
   "cell_type": "code",
   "execution_count": null,
   "id": "c9d8c805",
   "metadata": {},
   "outputs": [],
   "source": []
  }
 ],
 "metadata": {
  "kernelspec": {
   "display_name": "Python 3 (ipykernel)",
   "language": "python",
   "name": "python3"
  },
  "language_info": {
   "codemirror_mode": {
    "name": "ipython",
    "version": 3
   },
   "file_extension": ".py",
   "mimetype": "text/x-python",
   "name": "python",
   "nbconvert_exporter": "python",
   "pygments_lexer": "ipython3",
   "version": "3.9.13"
  }
 },
 "nbformat": 4,
 "nbformat_minor": 5
}
