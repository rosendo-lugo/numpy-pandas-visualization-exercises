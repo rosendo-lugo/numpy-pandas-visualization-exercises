{
 "cells": [
  {
   "cell_type": "markdown",
   "id": "29f99436",
   "metadata": {},
   "source": [
    "# Pandas Review using a Pokemon Dataset"
   ]
  },
  {
   "cell_type": "code",
   "execution_count": 134,
   "id": "3266ec83",
   "metadata": {},
   "outputs": [],
   "source": [
    "import pandas as pd\n",
    "\n",
    "df = pd.read_csv('https://gist.githubusercontent.com/armgilles/\\\n",
    "194bcff35001e7eb53a2a8b441e8b2c6/raw/92200bc0a673d5ce2110aaad4544ed6c4010f687/pokemon.csv')"
   ]
  },
  {
   "cell_type": "markdown",
   "id": "b6cf483c",
   "metadata": {},
   "source": [
    "### Practice Exercises"
   ]
  },
  {
   "cell_type": "markdown",
   "id": "cecdd334",
   "metadata": {},
   "source": [
    "#### 1. Obtain the following information:\n",
    "    \n",
    "    - dimensions\n",
    "    - dtypes\n",
    "    - column names\n",
    "    - summary statistics\n"
   ]
  },
  {
   "cell_type": "code",
   "execution_count": 135,
   "id": "e9d6367e",
   "metadata": {},
   "outputs": [
    {
     "name": "stdout",
     "output_type": "stream",
     "text": [
      "<class 'pandas.core.frame.DataFrame'>\n",
      "RangeIndex: 800 entries, 0 to 799\n",
      "Data columns (total 13 columns):\n",
      " #   Column      Non-Null Count  Dtype \n",
      "---  ------      --------------  ----- \n",
      " 0   #           800 non-null    int64 \n",
      " 1   Name        800 non-null    object\n",
      " 2   Type 1      800 non-null    object\n",
      " 3   Type 2      414 non-null    object\n",
      " 4   Total       800 non-null    int64 \n",
      " 5   HP          800 non-null    int64 \n",
      " 6   Attack      800 non-null    int64 \n",
      " 7   Defense     800 non-null    int64 \n",
      " 8   Sp. Atk     800 non-null    int64 \n",
      " 9   Sp. Def     800 non-null    int64 \n",
      " 10  Speed       800 non-null    int64 \n",
      " 11  Generation  800 non-null    int64 \n",
      " 12  Legendary   800 non-null    bool  \n",
      "dtypes: bool(1), int64(9), object(3)\n",
      "memory usage: 75.9+ KB\n",
      "None\n",
      "                #      Total          HP      Attack     Defense     Sp. Atk  \\\n",
      "count  800.000000  800.00000  800.000000  800.000000  800.000000  800.000000   \n",
      "mean   362.813750  435.10250   69.258750   79.001250   73.842500   72.820000   \n",
      "std    208.343798  119.96304   25.534669   32.457366   31.183501   32.722294   \n",
      "min      1.000000  180.00000    1.000000    5.000000    5.000000   10.000000   \n",
      "25%    184.750000  330.00000   50.000000   55.000000   50.000000   49.750000   \n",
      "50%    364.500000  450.00000   65.000000   75.000000   70.000000   65.000000   \n",
      "75%    539.250000  515.00000   80.000000  100.000000   90.000000   95.000000   \n",
      "max    721.000000  780.00000  255.000000  190.000000  230.000000  194.000000   \n",
      "\n",
      "          Sp. Def       Speed  Generation  \n",
      "count  800.000000  800.000000   800.00000  \n",
      "mean    71.902500   68.277500     3.32375  \n",
      "std     27.828916   29.060474     1.66129  \n",
      "min     20.000000    5.000000     1.00000  \n",
      "25%     50.000000   45.000000     2.00000  \n",
      "50%     70.000000   65.000000     3.00000  \n",
      "75%     90.000000   90.000000     5.00000  \n",
      "max    230.000000  180.000000     6.00000  \n",
      "\n",
      "Dimension\n",
      " (800, 13)\n"
     ]
    }
   ],
   "source": [
    "# df.info()\n",
    "print(df.info())# This will give you the dimension (How many columsn and rows the table has), column name, dtype per colomn. \n",
    "# df.describe()\n",
    "print(df.describe()) # This will give you count, mean, std, min, 25%, 50%, 75%, max\n",
    "# df.shape\n",
    "print(f'\\nDimension\\n', df.shape) # This will give you (columns, rows)"
   ]
  },
  {
   "cell_type": "markdown",
   "id": "0dfe016c",
   "metadata": {},
   "source": [
    "#### 2. Change all the column names\n",
    "      - lowercase letters\n",
    "      - remove whitespace\n",
    "      - remove periods"
   ]
  },
  {
   "cell_type": "code",
   "execution_count": 136,
   "id": "2afdbd24",
   "metadata": {},
   "outputs": [
    {
     "name": "stdout",
     "output_type": "stream",
     "text": [
      "<class 'list'>\n",
      " Column name\n",
      "\n",
      "- lowercase letters:\n",
      " Index(['#', 'name', 'type 1', 'type 2', 'total', 'hp', 'attack', 'defense',\n",
      "       'sp. atk', 'sp. def', 'speed', 'generation', 'legendary'],\n",
      "      dtype='object')\n",
      "\n",
      "- remove whitespace:\n",
      " Index(['#', 'Name', 'Type1', 'Type2', 'Total', 'HP', 'Attack', 'Defense',\n",
      "       'Sp.Atk', 'Sp.Def', 'Speed', 'Generation', 'Legendary'],\n",
      "      dtype='object')\n",
      "\n",
      "- remove periods:\n",
      " Index(['#', 'Name', 'Type 1', 'Type 2', 'Total', 'HP', 'Attack', 'Defense',\n",
      "       'Sp Atk', 'Sp Def', 'Speed', 'Generation', 'Legendary'],\n",
      "      dtype='object')\n",
      "\n",
      "- remove periods options 2:\n",
      " Index(['#', 'Name', 'Type 1', 'Type 2', 'Total', 'HP', 'Attack', 'Defense',\n",
      "       'Sp Atk', 'Sp Def', 'Speed', 'Generation', 'Legendary'],\n",
      "      dtype='object')\n"
     ]
    }
   ],
   "source": [
    "df\n",
    "print(type([df]))\n",
    "\n",
    "# dir(df)\n",
    "# for attribute in dir(df):\n",
    "#     print(f'\\n\\n{attribute}')\n",
    "#     help(getattr(df, attribute))\n",
    "print(f' Column name')\n",
    "# This line allows you to put the names in the columns all in lowercase. \n",
    "df_columns_lowercase = df.columns.str.lower() \n",
    "print(f'\\n- lowercase letters:\\n',df_columns_lowercase)\n",
    "\n",
    "# This line allows you to remove the whitespace in between the words\n",
    "df_columns_rem_whitespace = df.columns.str.replace(' ','')\n",
    "print(f'\\n- remove whitespace:\\n',df_columns_rem_whitespace)\n",
    "\n",
    "\n",
    "# This line allows you to remove the periods between the words\n",
    "df_columns_rem_periods = df.columns.str.replace('.','', regex=True)\n",
    "print(f'\\n- remove periods:\\n',df_columns_rem_periods)\n",
    "\n",
    "# Here is a second option on how to remove the period.\n",
    "df.columns = [col.replace('.', '') for col in df.columns]\n",
    "df_rem_periods = df.columns\n",
    "print(f'\\n- remove periods options 2:\\n',df_rem_periods)\n",
    "\n"
   ]
  },
  {
   "cell_type": "markdown",
   "id": "51e10350",
   "metadata": {},
   "source": [
    "#### 3. What is the highest HP value present?"
   ]
  },
  {
   "cell_type": "code",
   "execution_count": 241,
   "id": "3c069c86",
   "metadata": {},
   "outputs": [
    {
     "name": "stdout",
     "output_type": "stream",
     "text": [
      "***************Option 1*********************\n",
      "\n",
      "Highest HP value present\n",
      "        #     Name  Type 1 Type 2  Total   HP  Attack  Defense  Sp Atk  Sp Def  \\\n",
      "261  242  Blissey  Normal    NaN    540  255      10       10      75     135   \n",
      "\n",
      "     Speed  Generation  Legendary  \n",
      "261     55           2      False  \n",
      "\n",
      "\n",
      "***************Option 2*********************\n",
      "\n",
      "Highest HP value present (option 2)\n",
      " 255\n",
      "\n",
      "Lowest HP value present\n",
      " 1\n"
     ]
    }
   ],
   "source": [
    "print('***************Option 1*********************\\n')\n",
    "# This options is very striaght forward. \n",
    "# This code finds the maximum value of the HP column in the df DataFrame.\n",
    "# It uses the max() function to find the highest value.\n",
    "df.HP.max()\n",
    "\n",
    "# This code creates a new DataFrame called df_highest_HP which contains\n",
    "#  all rows from the original df DataFrame where the HP column is equal\n",
    "#  to the maximum HP value found in step 1. It uses a Boolean indexing \n",
    "# technique to achieve this - the condition df.HP == df.HP.max() creates\n",
    "#  a Boolean Series which is True for all rows where the HP value matches\n",
    "#  the maximum value, and False otherwise. This Boolean Series is used to\n",
    "#  index the original DataFrame df, and only the rows where the condition\n",
    "#  is True are returned and stored in the new DataFrame df_highest_HP.\n",
    "df_highest_HP = df[df.HP == df.HP.max()]\n",
    "\n",
    "#This code simply prints the df_highest_HP DataFrame to the console,\n",
    "#  which contains only the row with the highest HP value.\n",
    "print(f'Highest HP value present\\n',df_highest_HP)\n",
    "\n",
    "print('\\n\\n***************Option 2*********************')\n",
    "# This option is a cleaner version. In the brackets [] input the column name\n",
    "# in single quotes follow by the max() method. \n",
    "max_HP = df['HP'].max()\n",
    "print(f'\\nHighest HP value present (option 2)\\n',max_HP)\n",
    "\n",
    "min_HP = df['HP'].min()\n",
    "print(f'\\nLowest HP value present\\n',min_HP)\n",
    "\n"
   ]
  },
  {
   "cell_type": "markdown",
   "id": "39680199",
   "metadata": {},
   "source": [
    "#### 4. Which Pokemon possess(es) the highest HP value?\n",
    "- note: the `name` column is the pokemon name"
   ]
  },
  {
   "cell_type": "code",
   "execution_count": 239,
   "id": "10e85f32",
   "metadata": {},
   "outputs": [
    {
     "name": "stdout",
     "output_type": "stream",
     "text": [
      "***************Option 1*********************\n",
      "\n",
      "261    Blissey\n",
      "Name: Name, dtype: object\n",
      "261    Blissey\n",
      "Name: Name, dtype: object\n",
      "The pokemon with the highest HP value is 'Blissey' with '255' HP.\n",
      "\n",
      "***************Option 2*********************\n",
      "\n",
      "Below you can find the name of the pokeman with the highest HP value\n",
      "        #     Name  Type 1 Type 2  Total   HP  Attack  Defense  Sp Atk  Sp Def  \\\n",
      "261  242  Blissey  Normal    NaN    540  255      10       10      75     135   \n",
      "\n",
      "     Speed  Generation  Legendary  \n",
      "261     55           2      False  \n"
     ]
    }
   ],
   "source": [
    "print('***************Option 1*********************\\n')\n",
    "# This line finds the highest HP value in the 'HP' column of the dataset and assigns it to the variable max_HP.\n",
    "max_HP = df['HP'].max()\n",
    "\n",
    "# Another option\n",
    "print(df[df.HP == df.HP.max()].Name)\n",
    "\n",
    "# Another option\n",
    "print(df[df.HP == df.HP.max()]['Name'])\n",
    "\n",
    "\n",
    "# 'df.loc[df['HP'] == max_HP, 'Name']' filters the dataset to only include row where\n",
    "#  the 'HP' column equals max_HP, and selects the 'Name' column. This will return a\n",
    "#  Series of the name of the Pokemon with the highest HP value.\n",
    "# 'values[0]' extracts the first (and only) value from the Series, which is the name\n",
    "#  of the Pokemon with the highest HP value.\n",
    "pokemon_with_max_HP = df.loc[df['HP'] == max_HP, 'Name'].values[0]\n",
    "\n",
    "print(f\"The pokemon with the highest HP value is '{pokemon_with_max_HP}' with '{max_HP}' HP.\")\n",
    "\n",
    "\n",
    "print('\\n***************Option 2*********************\\n')\n",
    "# This option is a very simple answer with the information you need. \n",
    "\n",
    "# This code creates a new DataFrame called df_highest_HP which contains\n",
    "#  all rows from the original df DataFrame where the HP column is equal\n",
    "#  to the maximum HP value found in step 1. It uses a Boolean indexing \n",
    "# technique to achieve this - the condition df.HP == df.HP.max() creates\n",
    "#  a Boolean Series which is True for all rows where the HP value matches\n",
    "#  the maximum value, and False otherwise. This Boolean Series is used to\n",
    "#  index the original DataFrame df, and only the rows where the condition\n",
    "#  is True are returned and stored in the new DataFrame df_highest_HP.\n",
    "df_highest_HP = df[df.HP == df.HP.max()]\n",
    "\n",
    "#This code simply prints the df_highest_HP DataFrame to the console,\n",
    "#  which contains only the row with the highest HP value.\n",
    "print(f'Below you can find the name of the pokeman with the highest HP value\\n',df_highest_HP)"
   ]
  },
  {
   "cell_type": "markdown",
   "id": "ff968f0b",
   "metadata": {},
   "source": [
    "#### 5. How many different types are represented in Type 1? What are they?\n"
   ]
  },
  {
   "cell_type": "code",
   "execution_count": 139,
   "id": "a8350059",
   "metadata": {},
   "outputs": [
    {
     "name": "stdout",
     "output_type": "stream",
     "text": [
      "count       800\n",
      "unique       18\n",
      "top       Water\n",
      "freq        112\n",
      "Name: Type 1, dtype: object\n",
      "\n",
      "\n",
      "['Grass' 'Fire' 'Water' 'Bug' 'Normal' 'Poison' 'Electric' 'Ground'\n",
      " 'Fairy' 'Fighting' 'Psychic' 'Rock' 'Ghost' 'Ice' 'Dragon' 'Dark' 'Steel'\n",
      " 'Flying']\n"
     ]
    }
   ],
   "source": [
    "\n",
    "# This line will print a summary of the Type 1 column,\n",
    "#  including count, unique values, top value, and frequency of the top value.\n",
    "print(f\"{df['Type 1'].describe()}\\n\")\n",
    "\n",
    "\n",
    "# This line will print an array of all unique values\n",
    "#  present in the Type 1 column, which represents the different types\n",
    "#  represented in the column.\n",
    "print(f\"\\n{df['Type 1'].unique()}\")\n"
   ]
  },
  {
   "cell_type": "markdown",
   "id": "65b136a0",
   "metadata": {},
   "source": [
    "#### 6. Number of Pokemon whose Type 2 is Ghost"
   ]
  },
  {
   "cell_type": "code",
   "execution_count": 151,
   "id": "a5f5565b",
   "metadata": {},
   "outputs": [
    {
     "name": "stdout",
     "output_type": "stream",
     "text": [
      "******************Option 1************************\n",
      "14\n",
      "******************Option 2************************\n",
      "The number of Pokemon whose Type 2 is Ghost is 14.\n"
     ]
    }
   ],
   "source": [
    "# These lines of code will give you the total amount of rows in\n",
    "# one column\n",
    "# t_count = df['Type 1']\n",
    "# t_count.value_counts(dropna=False)\n",
    "# 32 ghost\n",
    "\n",
    "# This line will give you the single value for one row. \n",
    "# In this case we are looking for 'Ghost'.\n",
    "# ghost_count1 = df['Type 1'][df['Type 1'] == 'Ghost'].value_counts()\n",
    "# # pokemon_with_max_HP = df.loc[df['HP'] == max_HP, 'Name'].values[0]\n",
    "\n",
    "# print(ghost_count1)\n",
    "\n",
    "print('******************Option 1************************')\n",
    "# This will count the Ghost in Type 2\n",
    "df['Type 2'] == 'Ghost'\n",
    "df[df['Type 2'] == 'Ghost'].shape[0]\n",
    "ghost_count = df[df['Type 2'] == 'Ghost'].shape[0]\n",
    "print(f\"Ghost count in Type 2 column '{ghost_count}.'\")\n",
    "\n",
    "print('******************Option 2************************')\n",
    "# This is a cleaner way to find Ghos in Typy 2 column\n",
    "# This will filter the DataFrame to include only rows where the Type 2 column is \"Ghost\",\n",
    "# and then return the number of rows in the resulting DataFrame,\n",
    "#  which corresponds to the number of Pokemon whose Type 2 is Ghost.\n",
    "# Number of Pokemon whose Type 2 is Ghost\n",
    "ghost_count2 = df[df['Type 2'] == 'Ghost'].shape[0]\n",
    "print(f\"The number of Pokemon whose Type 2 is Ghost is {ghost_count2}.\")\n",
    "\n"
   ]
  },
  {
   "cell_type": "markdown",
   "id": "cfdc6cd4",
   "metadata": {},
   "source": [
    "#### 7. Percentage of Pokemon whose Type 2 is Ghost"
   ]
  },
  {
   "cell_type": "code",
   "execution_count": 152,
   "id": "14b24a00",
   "metadata": {},
   "outputs": [
    {
     "name": "stdout",
     "output_type": "stream",
     "text": [
      "The percentage of Pokemon whose Type 2 is Ghost is 1.75%.\n"
     ]
    }
   ],
   "source": [
    "# This code selects all rows where the value in the 'Type 2' column is 'Ghost'.\n",
    "# The result is a new DataFrame that only contains these rows.\n",
    "df['Type 2'] == 'Ghost'\n",
    "\n",
    "# 'shape[0]': This code returns the number of rows in the resulting DataFrame. \n",
    "# Since each row represents one Pokemon, this gives us the total number of Pokemon\n",
    "#  whose Type 2 is 'Ghost'.\n",
    "ghost_count = df[df['Type 2'] == 'Ghost'].shape[0]\n",
    "\n",
    "# 'df.shape[0]': This code returns the total number of rows in the original DataFrame,\n",
    "#  which is the total number of Pokemon.\n",
    "total_count = df.shape[0]\n",
    "\n",
    "# '(ghost_count / total_count) * 100': This code calculates the percentage of Pokemon \n",
    "#  whose Type 2 is 'Ghost'. It does this by dividing the number of Pokemon whose Type 2\n",
    "#  is 'Ghost' by the total number of Pokemon, and then multiplying by 100 to convert\n",
    "#  to a percentage.\n",
    "ghost_percentage = (ghost_count / total_count) * 100\n",
    "\n",
    "# '{ghost_percentage:.2f}%': This code uses f-strings to print the percentage with two\n",
    "#  decimal places, followed by a percent sign.\n",
    "print(f\"The percentage of Pokemon whose Type 2 is Ghost is {ghost_percentage:.2f}%.\")\n"
   ]
  },
  {
   "cell_type": "markdown",
   "id": "0e596571",
   "metadata": {},
   "source": [
    "#### 8. Number of Pokemon whose Attack is greater than Defense"
   ]
  },
  {
   "cell_type": "code",
   "execution_count": 158,
   "id": "e661ff4e",
   "metadata": {},
   "outputs": [
    {
     "name": "stdout",
     "output_type": "stream",
     "text": [
      "The number of Pokemon whose Attack is greater than Defense is 433.\n"
     ]
    }
   ],
   "source": [
    "# df.head() \n",
    "\n",
    "# This creates a boolean mask which is used to select rows from the\n",
    "# DataFrame where the Attack value is greater than Defense.\n",
    "df[df.Attack > df.Defense]\n",
    "\n",
    "\n",
    "# The shape attribute instead of count() to get the number of rows \n",
    "# that satisfy the condition. Here's an example:\n",
    "attck_gt_def = df[df.Attack > df.Defense].shape[0]\n",
    "\n",
    "# The print will give you the total number of rows where Attack is greater than Defense\n",
    "print(f\"The number of Pokemon whose Attack is greater than Defense is {attck_gt_def}.\")"
   ]
  },
  {
   "cell_type": "markdown",
   "id": "b6fec6a1",
   "metadata": {},
   "source": [
    "#### 9. What is the slowest speed for Grass type (either type 1 or type 2)"
   ]
  },
  {
   "cell_type": "code",
   "execution_count": 186,
   "id": "92635c8e",
   "metadata": {},
   "outputs": [
    {
     "name": "stdout",
     "output_type": "stream",
     "text": [
      "The slowest speed for Grass type is 10.\n"
     ]
    }
   ],
   "source": [
    "# print(df.head())\n",
    " \n",
    "# In the first line, we use boolean indexing to select rows where the Type 1 column is 'Grass'.\n",
    "df['Type 1'] == 'Grass'\n",
    "df['Type 2'] == 'Grass'\n",
    "\n",
    "#  In the second line, we further filter the DataFrame to include rows where either \n",
    "# the Type 1 or Type 2 column is 'Grass', using the | operator to combine two boolean expressions.\n",
    "# In the last part the 'Speed' column was selected to filtered the DataFrame,\n",
    "grass = df[(df['Type 1'] == 'Grass') | (df['Type 2'] == 'Grass')]['Speed']\n",
    "\n",
    "# Use the min() method to find the slowest speed for Grass type. \n",
    "slowest_grass_speed = grass.min()\n",
    "\n",
    "# Print the results\n",
    "print(f\"The slowest speed for Grass type is {slowest_grass_speed}.\")\n"
   ]
  },
  {
   "cell_type": "markdown",
   "id": "538fddbe",
   "metadata": {},
   "source": [
    "#### 10. Find the average speed by Generation"
   ]
  },
  {
   "cell_type": "code",
   "execution_count": 242,
   "id": "c0caaeb5",
   "metadata": {},
   "outputs": [
    {
     "name": "stdout",
     "output_type": "stream",
     "text": [
      "   #                   Name Type 1  Type 2  Total  HP  Attack  Defense  \\\n",
      "0  1              Bulbasaur  Grass  Poison    318  45      49       49   \n",
      "1  2                Ivysaur  Grass  Poison    405  60      62       63   \n",
      "2  3               Venusaur  Grass  Poison    525  80      82       83   \n",
      "3  3  VenusaurMega Venusaur  Grass  Poison    625  80     100      123   \n",
      "4  4             Charmander   Fire     NaN    309  39      52       43   \n",
      "\n",
      "   Sp Atk  Sp Def  Speed  Generation  Legendary  \n",
      "0      65      65     45           1      False  \n",
      "1      80      80     60           1      False  \n",
      "2     100     100     80           1      False  \n",
      "3     122     120     80           1      False  \n",
      "4      60      50     65           1      False  \n",
      "Generation\n",
      "1    72.58\n",
      "2    61.81\n",
      "3    66.92\n",
      "4    71.34\n",
      "5    68.08\n",
      "6    66.44\n",
      "Name: Speed, dtype: float64\n"
     ]
    }
   ],
   "source": [
    "# The average speed was group by the 'Generation' column and then\n",
    "# calculate the mean of the 'Speed' column for each group.\n",
    "print(df.head())\n",
    "\n",
    "avg_speed_by_gen = df.groupby('Generation')['Speed'].mean().round(2)\n",
    "\n",
    "# Print the findings\n",
    "print(avg_speed_by_gen)\n"
   ]
  },
  {
   "cell_type": "markdown",
   "id": "a4c2f430",
   "metadata": {},
   "source": [
    "#### 11. How many LEGENDARY Pokemon are DRAGON type?"
   ]
  },
  {
   "cell_type": "code",
   "execution_count": 231,
   "id": "18f2f94b",
   "metadata": {},
   "outputs": [
    {
     "name": "stdout",
     "output_type": "stream",
     "text": [
      "The total number of Dragon type Pokemon in either Type 1 or Type 2 is 16.\n"
     ]
    }
   ],
   "source": [
    "# print(df['Type 1'].unique())\n",
    "# # print(df.head())\n",
    "# print(df['Legendary'].unique())\n",
    "\n",
    "\n",
    "# This line filters the DataFrame df to only include rows where Legendary is\n",
    "# True and where either Type 1 or Type 2 is equal to 'Dragon'. The & operator \n",
    "# combines two conditions such that both must be true for a row to be included\n",
    "#  in the filtered DataFrame.\n",
    "df[(df.Legendary == True) & ((df['Type 1'] == 'Dragon') | (df['Type 2'] == 'Dragon'))]\n",
    "\n",
    "\n",
    "# The shape returns the number of rows in the filtered DataFrame.\n",
    "legendary_type1_2_dragons = df[(df.Legendary == True) & ((df['Type 1'] == 'Dragon') | (df['Type 2'] == 'Dragon'))].shape[0]\n",
    "\n",
    "# This prints the total count of the legendary dragons in both types\n",
    "print(f\"The total number of Dragon type Pokemon in either Type 1 or Type 2 is {legendary_type1_2_dragons}.\")\n",
    "\n"
   ]
  },
  {
   "cell_type": "code",
   "execution_count": null,
   "id": "c9d8c805",
   "metadata": {},
   "outputs": [],
   "source": []
  }
 ],
 "metadata": {
  "kernelspec": {
   "display_name": "Python 3 (ipykernel)",
   "language": "python",
   "name": "python3"
  },
  "language_info": {
   "codemirror_mode": {
    "name": "ipython",
    "version": 3
   },
   "file_extension": ".py",
   "mimetype": "text/x-python",
   "name": "python",
   "nbconvert_exporter": "python",
   "pygments_lexer": "ipython3",
   "version": "3.9.13"
  }
 },
 "nbformat": 4,
 "nbformat_minor": 5
}
