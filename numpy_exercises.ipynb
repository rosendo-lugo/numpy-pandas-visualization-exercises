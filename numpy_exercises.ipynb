{
 "cells": [
  {
   "cell_type": "code",
   "execution_count": 7,
   "id": "17fb62e0",
   "metadata": {},
   "outputs": [],
   "source": [
    "# Convention is to import the numpy module as np.\n",
    "# The following exercises would not work without the import\n",
    "import numpy as np\n",
    "\n",
    "\n",
    "a = np.array ([4, 10, 12, 23, -2, -1, 0, 0, 0, -6, 3, -7])"
   ]
  },
  {
   "cell_type": "code",
   "execution_count": 6,
   "id": "07e5216f",
   "metadata": {},
   "outputs": [
    {
     "name": "stdout",
     "output_type": "stream",
     "text": [
      "all negatives [False False False False  True  True False False False  True False  True]\n"
     ]
    }
   ],
   "source": [
    "print('all negatives {}'.format(a < 0))"
   ]
  },
  {
   "cell_type": "code",
   "execution_count": 9,
   "id": "faed6a5a",
   "metadata": {},
   "outputs": [
    {
     "name": "stdout",
     "output_type": "stream",
     "text": [
      "a = negative == [False False False False  True  True False False False  True False  True]\n",
      "[-2 -1 -6 -7]\n"
     ]
    }
   ],
   "source": [
    "import numpy as np\n",
    "\n",
    "\n",
    "a = np.array ([4, 10, 12, 23, -2, -1, 0, 0, 0, -6, 3, -7])\n",
    "\n",
    "# 1. How many negative numbers are there?\n",
    "\n",
    "print('a = negative == {}'.format(a < 0))\n",
    "print(a[a < 0])"
   ]
  },
  {
   "cell_type": "code",
   "execution_count": null,
   "id": "6efe6ebe",
   "metadata": {},
   "outputs": [],
   "source": []
  }
 ],
 "metadata": {
  "kernelspec": {
   "display_name": "Python 3 (ipykernel)",
   "language": "python",
   "name": "python3"
  },
  "language_info": {
   "codemirror_mode": {
    "name": "ipython",
    "version": 3
   },
   "file_extension": ".py",
   "mimetype": "text/x-python",
   "name": "python",
   "nbconvert_exporter": "python",
   "pygments_lexer": "ipython3",
   "version": "3.9.13"
  }
 },
 "nbformat": 4,
 "nbformat_minor": 5
}
